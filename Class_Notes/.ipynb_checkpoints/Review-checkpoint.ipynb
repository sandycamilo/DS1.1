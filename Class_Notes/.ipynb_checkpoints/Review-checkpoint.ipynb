{
 "cells": [
  {
   "cell_type": "markdown",
   "metadata": {},
   "source": [
    "**Null Hypotheses**\n",
    "\n",
    "It states whether our statistical test may be caused by chance or by other cofounding variables. \n",
    "\n",
    "\n",
    "*Disproving that there is no relationship between variables allows us to look deeper.*\n",
    "\n",
    "Example:\n",
    "\n",
    "If we are researching the effect of a drug on mice, we are assuming that the drug actually has an effect on mice. ----> So our null hypothesis states that the drug DOES NOT have an effect on mice as we actively try to disprove the null hypothesis. \n"
   ]
  },
  {
   "cell_type": "markdown",
   "metadata": {},
   "source": [
    "**Descriptive Statistics**\n",
    "\n",
    "It involves describing, presenting, summarazing, and organizing your data through numerical calculations or data visualization methods."
   ]
  },
  {
   "cell_type": "markdown",
   "metadata": {},
   "source": [
    "**Measures of Central Tendency**\n",
    "\n",
    "*Mean:*\n",
    "The average. The sum of all data points divided by how many data points exist.\n",
    "\n",
    "*Median:*\n",
    "The value that sits at the middle when sorting all data points. ~ when there is an even number of data points you take the average of the two middle ones. \n",
    "\n",
    "*Mode:*\n",
    "Most commonly ocurring value. From [2,2,2,3] mode is 2."
   ]
  },
  {
   "cell_type": "markdown",
   "metadata": {},
   "source": [
    "**How do you measure SPREAD and VARIANCE?**\n",
    "\n",
    "Unlike measures of central tendency, which focus on the distribution of our data towards an arithmetic centroid, measures of spread and variance talk about the shape and layout of our data all across the board. \n",
    "\n",
    "The ​Variance is ​the average of the ​squared differences from the Mean.​\n",
    "\n",
    "The differences are just each number subtracted from the Mean.\n",
    "\n",
    "The two key measures of spread and variance are RANGE and STANDARD DEVIATION."
   ]
  },
  {
   "cell_type": "markdown",
   "metadata": {},
   "source": [
    "**What is range in statistics?**\n",
    "\n",
    "Minimum and maximum values. \n",
    "\n",
    "If data is [1,2,3], the range is (1,3). \n",
    "\n",
    "Calculated by subtracting the lowest value from the highest one."
   ]
  },
  {
   "cell_type": "markdown",
   "metadata": {},
   "source": [
    "**What is variance and how do you calculate it?**\n",
    "\n",
    "Variance is the average of the squared distances from each point to the mean.\n",
    "\n",
    "A small variance indicates that the data points tend to be very close to the mean, and to each other.\n",
    "\n",
    "A high variance indicates that the data points are very spread out from the mean, and from one another. \n",
    "\n"
   ]
  },
  {
   "cell_type": "markdown",
   "metadata": {},
   "source": [
    "**What is a standard deviation? 𝞂**\n",
    "\n",
    "Standard deviation is a number used to tell how measurements for a group are spread out from the average (mean), or expected value.\n",
    "\n",
    "A low standard deviation means that most of the numbers are very close to the average.\n",
    "\n",
    "A high standard deviation means that the numbers are spread out."
   ]
  },
  {
   "cell_type": "markdown",
   "metadata": {},
   "source": [
    "**How do you calculate the standard deviation? 𝞂**\n",
    "\n",
    "By calculating the​ square root√​ of the ​Variance ​(Variance is ​the average of the ​squared​ differences from the Mean​)\n",
    "\n",
    "The squared difference is obtained by subtracting each number from the mean and squaring it."
   ]
  },
  {
   "cell_type": "markdown",
   "metadata": {},
   "source": [
    "**What are CDF and PDF?**\n",
    "\n",
    "PDF​ = Probability Density Function\n",
    "\n",
    "The best known PDF is the Normal Distribution aka Gaussian aka Bell Curve. \n",
    "It shows how data clusters around central tendencies.\n",
    "\n",
    "CDF​ = Cumulative Distribution Function\n",
    "\n",
    "Tells you how likely a data point is to fall below a given x.\n",
    "\n",
    "Z-Distribution \n",
    "-A probability density function and a normal distribution that has a mean equal to zero and a standard deviation equal to one.\n",
    "-Used to test hypotheses about means or proportions of samples drawn from populations whose population standard deviations are known. "
   ]
  },
  {
   "cell_type": "markdown",
   "metadata": {},
   "source": [
    "**What is SF?**\n",
    "\n",
    "Survival function.\n",
    "It is the opposite of CDF ~ It graphs the chance that something will be ABOVE a certain value."
   ]
  },
  {
   "cell_type": "markdown",
   "metadata": {},
   "source": [
    "**What is a normal distribution?**\n",
    "\n",
    "A symmetrical probability distribution where all central tendencies are the same."
   ]
  },
  {
   "cell_type": "markdown",
   "metadata": {},
   "source": [
    "**What is an outlier?**\n",
    "\n",
    "Data that skews the central tendencies and do not follow the same patterns as the rest of the data. \n",
    "\n",
    "If the histogram of the data is normal-ish, then you basically remove everything above mean+three and below mean-three standard deviations ~ Those are outliers."
   ]
  },
  {
   "cell_type": "markdown",
   "metadata": {},
   "source": [
    "**What are inferential statistics?**\n",
    "\n",
    "Allows us to infer trends and make assumptions/assertions about a population based on a study of a sample taken from it.\n"
   ]
  },
  {
   "cell_type": "markdown",
   "metadata": {},
   "source": [
    "**What’s the difference between confidence intervals and point estimation?**\n",
    "\n",
    "A point estimate is where you guess what the average of a whole population is based on a sample.\n",
    "\n",
    "\n",
    "Confidence interval is the range that you think, with some percent certainty, the real average is in.\n",
    "\n",
    "So where the point estimation for average height of Californians might be 5’8, the confidence interval might be that you are 95% sure the average is between 5’7 and 5’9."
   ]
  },
  {
   "cell_type": "markdown",
   "metadata": {},
   "source": [
    "**What is a Gaussian Mixture Model?**\n",
    "\n",
    "GMM is a probabilistic model for representing normally distributed subpopulations within an overall population.\n",
    "\n",
    "With a GMM you specify how many normal distributions you want to approximate.\n",
    "\n",
    "\n",
    "***The end goal of using GMM?***\n",
    "\n",
    "GMM can learn about the statistics of a column in our data frame.\n",
    "\n",
    "GMM is capable generating new samples based on the statistics of NAN values - It can generate samples for NAN values for us. \n",
    "\n",
    "The number of components in GMM(Denoted by 'K') should be defined by user(number of peaks in PDF of list)"
   ]
  },
  {
   "cell_type": "markdown",
   "metadata": {},
   "source": [
    "**What is KDE?**\n",
    "\n",
    "Kernel Density Estimation is used to find the PDF (probability density function) of a dataset. \n",
    "\n",
    "You might use it to find normal distributions in sub-populations.\n",
    "\n",
    "Its purpose is to approximate a histogram. \n",
    "\n",
    "It lets you create a ​smooth​ curve given a set of data (higher bandwidth == smoother curve).\n",
    "\n",
    "It can also be used to generate points that ​look like they came from a certain dataset.​ \n",
    "\n",
    "KDE also helps with missing data by generating samples."
   ]
  },
  {
   "cell_type": "markdown",
   "metadata": {},
   "source": [
    "**What is IQR?**\n",
    "\n",
    "Interquartile range.\n",
    "\n",
    "The range between the first quartile (25%) and third quartile (75%).\n",
    "\n",
    "Can be used along with the mean and standard deviation to determine if a distribution is normaland to remove outliers. "
   ]
  },
  {
   "cell_type": "markdown",
   "metadata": {},
   "source": [
    "**Distributions**\n",
    "\n",
    "Any type of probability based histogram. \n",
    "\n",
    "It is a histogram in that it captures relative frequency in terms of probability for each bucket/value.\n",
    "\n",
    "The data is also continuous and not captured in discrete buckets. \n",
    "\n",
    "We can make assumptions based on these patterns to draw real world conclusions.\n",
    "\n",
    "***Uniform Distribution***\n",
    "Where the frequency (or the probability that the any one bucket would occur) is the same\n",
    "across all buckets.\n",
    "\n",
    "***Normal Distribution***\n",
    "A continuous probability distribution that represents the data in a bell-shaped curve. \n",
    "The normal distribution is a symmetrical curve with the mean, median and mode all at the middle. ~68% of all data within one deviation from the mean, ~95% within two deviations\n",
    "and ~99.7% within three deviations from the mean.\n",
    "\n",
    "***Standard Normal Distribution***\n",
    " Mean = 0; standard deviation = 1\n",
    " \n",
    "***Hypothesis Testing***\n",
    "We attempt to disprove the null hypothesis in order to try and support the alternative hypothesis. We do this by getting a random sample that is representative of our population.\n",
    "\n",
    "***Central Limit Theorem***\n",
    "Allows us to make the assertion that we can talk about the entire population at large based on a sample of the population."
   ]
  },
  {
   "cell_type": "markdown",
   "metadata": {},
   "source": [
    "**Stating that a change we make on a sample is the same across the whole\n",
    "dataset**\n",
    "\n",
    "1. Identify hypothesis.\n",
    "2. Create a distribution of sample means using CLT.\n",
    "3. Calculate a test parameter (z-test if we know std deviation and N > 30 or t-test otherwise)\n",
    "a. We determine a z or t test parameter and then we determine if the change we are suggesting is significant.\n",
    "4. Convert to a p value\n",
    "a. We convert our z or t score to a p value.\n",
    "b. Ifourzortscoreislarge,thenpvalueissmall.Ifourzortissmall,thepvalue\n",
    "is large.\n",
    "c. Check if our p value is less than our alpha value.\n",
    "5. Compare the p value to confidence interval and reject or fail to reject the null hypothesis\n",
    "a. If our p is small than alpha, then we reject the null hypothesis. If our p value is\n",
    "greater than alpha then we fail to reject the null hypothesis."
   ]
  },
  {
   "cell_type": "markdown",
   "metadata": {},
   "source": [
    "**Null Hypothesis (H​o) (with Alternative Hypothesis being H​a)**\n",
    "\n",
    "This states that whatever change you have asserted is not true. \n",
    "It supports any other case than the proposed case.\n"
   ]
  },
  {
   "cell_type": "markdown",
   "metadata": {},
   "source": [
    "**Cumulative Density Functions**\n",
    "\n",
    "The amount of data before a certain point.\n",
    "Takes value dependant value and returns a probabability.\n"
   ]
  },
  {
   "cell_type": "markdown",
   "metadata": {},
   "source": [
    "**Survival Function**\n",
    "\n",
    "The amount of data after a certain point."
   ]
  },
  {
   "cell_type": "markdown",
   "metadata": {},
   "source": [
    "***Explain what is null-hypothesis by mentioning an example***\n",
    "\n",
    "Imagine we have designed a website with template A. \n",
    "\n",
    "The frontend developer applies changes and now the template is B.\n",
    "\n",
    "Statistically we know the users interaction with template A, for example we know the users click-through rate (CTR)\n",
    "\n",
    "The new template B is exposed to N new users. \n",
    "\n",
    "We gather the CTR for these new N users\n",
    "\n",
    "The null-hypothesis says that the average CTR for template B is the same as the average CTR for template A, or we say nothing has changed for CTR\n",
    "\n",
    "The alternative-hypothesis says, with confidence of 95%, the average CTR for template B is greater than template A\n"
   ]
  },
  {
   "cell_type": "markdown",
   "metadata": {},
   "source": [
    "**What are the steps to reject or accept null-hypothesis?**\n",
    "\n",
    "1- If N > 30 or the standard-deviation (std) for template A is known, we calculate z-score\n",
    "\n",
    "2- Obtain the survival function of Z-distribution (standard Normal) at z-score. This would be p-value\n",
    "\n",
    "3- Compare the p-value with significant level (5% for example). If p-value is less than significant level then reject the null-hypothesis\n",
    "\n",
    "4- if N< 30 we do the same steps with t-score and T-distribution"
   ]
  },
  {
   "cell_type": "markdown",
   "metadata": {},
   "source": [
    "**What is confidence interval for mean, by mentioning an example**\n",
    "\n",
    "We have N (50) samples of sepal length for setosa.\n",
    "We want to obtain an interval for the mean value of sepal length and say we are 95% confident that if we gather much more samples for sepal length the mean of these population with be in [L, U] range.\n",
    "We obtain L and U."
   ]
  },
  {
   "cell_type": "markdown",
   "metadata": {},
   "source": [
    " **What is an unpaired t-test, by mentioning an example?**\n",
    "\n",
    "In this case, we have not applied changes, but we are comparing two groups, for example weights of female versus male. \n",
    "\n",
    "We want to say we are 95% confident that the weights of female are different than weights of male   "
   ]
  }
 ],
 "metadata": {
  "kernelspec": {
   "display_name": "Python 3",
   "language": "python",
   "name": "python3"
  },
  "language_info": {
   "codemirror_mode": {
    "name": "ipython",
    "version": 3
   },
   "file_extension": ".py",
   "mimetype": "text/x-python",
   "name": "python",
   "nbconvert_exporter": "python",
   "pygments_lexer": "ipython3",
   "version": "3.7.7"
  }
 },
 "nbformat": 4,
 "nbformat_minor": 2
}
